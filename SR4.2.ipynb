{
 "cells": [
  {
   "cell_type": "code",
   "execution_count": 23,
   "id": "283f1dcb-817d-45f3-9b1c-373d0901a4d1",
   "metadata": {},
   "outputs": [
    {
     "name": "stdout",
     "output_type": "stream",
     "text": [
      "Linear Search:\n",
      "Element 80 not found.\n",
      "\n",
      "Binary Search:\n",
      "Element 19100006 not found.\n"
     ]
    }
   ],
   "source": [
    "import pandas as pd\n",
    "\n",
    "df = pd.read_csv(\"C:/Users/skabe/OneDrive/Documents/Rudder_Works/SCHOOL/MUT[I.T]/Technical Programming II/2024/TEST 2/bky6-3za5.csv\")\n",
    "\n",
    "#Linear\n",
    "def linear_search(arr, target):\n",
    "    for i in range(len(arr)):\n",
    "        if arr[i] == target:\n",
    "            return i  \n",
    "    return -1  \n",
    "#Binary\n",
    "def binary_search(arr, target):\n",
    "    low = 0\n",
    "    high = len(arr) - 1\n",
    "    while low <= high:\n",
    "        mid = (low + high) // 2\n",
    "        if arr[mid] == target:\n",
    "            return mid  \n",
    "        elif arr[mid] < target:\n",
    "            low = mid + 1\n",
    "        else:\n",
    "            high = mid - 1\n",
    "    return -1  \n",
    "\n",
    "target_linear = 80\n",
    "target_binary = 19100006\n",
    "\n",
    "index_linear = linear_search(dataset, target_linear)\n",
    "index_binary = binary_search(dataset, target_binary)\n",
    "\n",
    "print(\"Linear Search:\")\n",
    "if index_linear != -1:\n",
    "    print(f\"Element {target_linear} found at index {index_linear} using linear search.\")\n",
    "else:\n",
    "    print(f\"Element {target_linear} not found.\")\n",
    "\n",
    "print(\"\\nBinary Search:\")\n",
    "if index_binary != -1:\n",
    "    print(f\"Element {target_binary} found at index {index_binary} using binary search.\")\n",
    "else:\n",
    "    print(f\"Element {target_binary} not found.\")"
   ]
  },
  {
   "cell_type": "code",
   "execution_count": null,
   "id": "4653e514-5f38-4bca-81d0-9480eb65af29",
   "metadata": {},
   "outputs": [],
   "source": []
  }
 ],
 "metadata": {
  "kernelspec": {
   "display_name": "Python 3 (ipykernel)",
   "language": "python",
   "name": "python3"
  },
  "language_info": {
   "codemirror_mode": {
    "name": "ipython",
    "version": 3
   },
   "file_extension": ".py",
   "mimetype": "text/x-python",
   "name": "python",
   "nbconvert_exporter": "python",
   "pygments_lexer": "ipython3",
   "version": "3.12.2"
  }
 },
 "nbformat": 4,
 "nbformat_minor": 5
}
