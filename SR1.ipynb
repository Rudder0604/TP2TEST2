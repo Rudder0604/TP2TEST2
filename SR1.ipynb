{
 "cells": [
  {
   "cell_type": "code",
   "execution_count": 13,
   "id": "5479d89b-0904-46fc-ac47-fbf385732de7",
   "metadata": {},
   "outputs": [
    {
     "name": "stdout",
     "output_type": "stream",
     "text": [
      "First few rows of the dataset:\n",
      "    is_cluster  pocket_name                pocket_alias   ward_id  \\\n",
      "0       4 in 1       4 in 1  Wallacedene 14 / J Section  19100006   \n",
      "1  Acacia Road  Acacia Road      Acacia Park - Parktown  19100066   \n",
      "2    Amy Biehl    Amy Biehl                 School Site  19100034   \n",
      "3  Appel Boord  Appel Boord                         NaN  19100022   \n",
      "4       Area K       Area K                 Never Never  19100088   \n",
      "\n",
      "           ward_councillor  avg_hhsize  area_ha  density_dwellings  \\\n",
      "0      Simpiwe Nonkeyizana        3.72    2.952          50.813008   \n",
      "1          Melanie Arendse        4.51    0.070         114.285714   \n",
      "2         Fikiswa Nkunzana        2.89    1.711         301.578025   \n",
      "3          Johanna Martlow        4.14    0.088         159.090909   \n",
      "4  Patrick (Pat) Pietersen        4.17    2.661         249.154453   \n",
      "\n",
      "   structure_count      age_of_is  ... toilets_full_flush  toilets_chemical  \\\n",
      "0              150  15 - 20 years  ...               32.0               0.0   \n",
      "1                8  10 - 15 years  ...                3.0               2.0   \n",
      "2              516  15 - 20 years  ...               93.0               0.0   \n",
      "3               14   5 - 10 years  ...               10.0               0.0   \n",
      "4              663  10 - 15 years  ...              121.0               0.0   \n",
      "\n",
      "   toilets_portable  toilets_container  toilets_other  toilets_total  \\\n",
      "0               0.0                0.0            0.0           32.0   \n",
      "1               0.0                0.0            0.0            5.0   \n",
      "2               0.0                0.0            0.0           93.0   \n",
      "3               0.0                0.0            0.0           10.0   \n",
      "4               0.0                0.0            0.0          121.0   \n",
      "\n",
      "   ratio_toilets_dwellings  pocket_code  centroidx  centroidy  \n",
      "0                      1:5    NORFOU001  18.732603 -33.863384  \n",
      "1                      1:2    HILACA001  18.501024 -34.032822  \n",
      "2                      1:6    MITAMY001  18.587852 -34.002772  \n",
      "3                      1:1    TYGAPP001  18.609142 -33.926268  \n",
      "4                      1:5    MITARE001  18.598543 -34.008208  \n",
      "\n",
      "[5 rows x 22 columns]\n",
      "\n",
      "Columns in the dataset:\n",
      "Index(['is_cluster', 'pocket_name', 'pocket_alias', 'ward_id',\n",
      "       'ward_councillor', 'avg_hhsize', 'area_ha', 'density_dwellings',\n",
      "       'structure_count', 'age_of_is', 'upgrade_category', 'temp_sanitation',\n",
      "       'toilets_full_flush', 'toilets_chemical', 'toilets_portable',\n",
      "       'toilets_container', 'toilets_other', 'toilets_total',\n",
      "       'ratio_toilets_dwellings', 'pocket_code', 'centroidx', 'centroidy'],\n",
      "      dtype='object')\n"
     ]
    }
   ],
   "source": [
    "import pandas as pd\n",
    "\n",
    "#\"C:\\Users\\skabe\\OneDrive\\Documents\\Rudder_Works\\SCHOOL\\MUT[I.T]\\Technical Programming II\\2024\\TEST 2\\Ngeleka\\Khan Road_interviews_2023-02-08T09-23-35.csv\"\n",
    "# Load dataset\n",
    "df = pd.read_csv(\"C:/Users/skabe/OneDrive/Documents/Rudder_Works/SCHOOL/MUT[I.T]/Technical Programming II/2024/TEST 2/bky6-3za5.csv\")\n",
    "\n",
    "# Display the first few rows of the dataset\n",
    "print(\"First few rows of the dataset:\")\n",
    "print(df.head())\n",
    "\n",
    "# Display the columns to understand the structure\n",
    "print(\"\\nColumns in the dataset:\")\n",
    "print(df.columns)\n",
    "\n",
    "# Display specific columns relevant to our analysis\n",
    "#print(\"\\nRelevant columns : density_dwellings and structure_count\")\n",
    "#rint(df['density_dwellings', 'structure_count'].head())\n"
   ]
  },
  {
   "cell_type": "code",
   "execution_count": null,
   "id": "20f4b160-2b43-4cce-9c22-5c8b23dbca9a",
   "metadata": {},
   "outputs": [],
   "source": []
  }
 ],
 "metadata": {
  "kernelspec": {
   "display_name": "Python 3 (ipykernel)",
   "language": "python",
   "name": "python3"
  },
  "language_info": {
   "codemirror_mode": {
    "name": "ipython",
    "version": 3
   },
   "file_extension": ".py",
   "mimetype": "text/x-python",
   "name": "python",
   "nbconvert_exporter": "python",
   "pygments_lexer": "ipython3",
   "version": "3.12.2"
  }
 },
 "nbformat": 4,
 "nbformat_minor": 5
}
